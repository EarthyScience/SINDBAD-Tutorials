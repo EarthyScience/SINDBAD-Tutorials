{
 "cells": [
  {
   "cell_type": "markdown",
   "id": "e8c89574",
   "metadata": {},
   "source": [
    "## AI4PEX SINDBAD Tutorial \n",
    "## 1. Parameter inversion exercise\n",
    "A notebook by Sujan Koirala, Xu Shan, Jialiang Zhou and Nuno Carvalhais\n",
    "\n",
    "---\n",
    "## SINDBAD\n",
    "[SINDBAD](http://sindbad-mdi.org/) is a model-data integration framework for terrestrial carbon-water processes [[Koirala et al., in prep.](https://essopenarchive.org/users/551954/articles/1271244)]. Is built in Julia with a view on speed and differenciability for the development of representation of processes and responses of ecosystem functioning to meteorological conditions and changes in climate. Sets on the concept of modularity to formaly test hypothesis on the representation of processes / models ($f(X,\\theta)$), for given observational constraints ($Y$) and drivers ($X$) of the carbon and water dynamics in terrestrial ecosystems. Modularity is extended to the initial condition problem ($\\text{x}^*_0$), cost functions ($\\mathcal{L(\\theta)}$) and optimization algorithms ($\\mathcal{O}$). SINDBAD integrates machine learning for enhancing the representation of processes in mechanistically-inspired models, hybrid modeling [Reichstein et al., 2019], by learning ML-based parameterizations [e.g. Bao et al., 2024], paving way for process abstraction [Son et al., 2024]."
   ]
  },
  {
   "cell_type": "markdown",
   "id": "f59a2001",
   "metadata": {},
   "source": [
    "---\n",
    "## WROASTED: a Simple Coupled Carbon–Water Ecosystem Model\n",
    "The carbon dynamics,  $\\frac{dC}{dt}$, are simulated as the difference between gross assimilation and respiratory fluxes\n",
    "$$\n",
    "\\frac{dC}{dt} = GPP - R_{ECO}\n",
    "$$\n",
    "\n",
    "where ${GPP}$, gross primary productivity, results from photosynthetic activity and $R_{ECO}$, ecosystem respiration, is the sum of autotrophic and heterotrophic respiratory fluxes, namely, $R_{A}$ and $R_{H}$. \n",
    "\n",
    "$R_{A}$ integrates both maintenance and growth respiration, $R_{M}$ and $R_{G}$, where  $R_{M}$  can be generically written like:\n",
    "\n",
    "$$\n",
    "R_{M} =\\sum_{i=1}^{N} \\tau_i \\cdot C_i \\cdot f_T \n",
    "$$\n",
    "\n",
    "$i$ representing the different carbon pools ($C_i$) in vegetation - root/wood/leaf/reserves; $\\tau_i$ the turnover rate of pool $i$ , and $f_T$ the temperature dependence of metabolic activity, usually a $Q_{10}$ function; while $R_G=Y_G \\cdot GPP$, being $Y_G$ and constant growth efficiency parameter [see Amthor, 2001]. \n",
    "\n",
    "$R_H$ results from litter and soil decomposition:\n",
    "$$\n",
    "R_{H} =\\sum_{i=1}^{N} \\tau_i \\cdot C_i \\cdot f_T \\cdot f_W\n",
    "$$\n",
    "\n",
    "$i$ representing the different heterotrophic carbon pools ($C_i$) in soils - fast and slow litter and organic carbon pools; $\\tau_i$ the turnover rate of pool $i$ , $f_T$ and $f_W$ the temperature and soil moisture sensitivity of decomposition function.\n",
    "\n",
    "Soil moisture dynamics, $\\frac{dW}{dt}$:\n",
    "$$\n",
    "\\frac{dW}{dt} = P_r - E_i - E_s - Q - D - T_r\n",
    "$$\n",
    "\n",
    "Being: $Pr$: precipitation; $E_i$: interception evaporation; $E_s$: soil evaporation; $Q$: surface runoff; $D$: drainage; $T_r$: plant transpiration.\n",
    "\n",
    "Transpiration is tighly coupled to $GPP$, estimated as: \n",
    "\n",
    "$$\n",
    "GPP = min(GPP_D,GPP_S)\n",
    "$$\n",
    "\n",
    "Being demand $GPP$:\n",
    "$$\n",
    "GPP_S = \\epsilon^* \\cdot f\\text{APAR} \\cdot \\text{PAR} \\cdot (f_L \\cdot f_{CI} \\cdot f_T \\cdot f_{VPD} \\cdot f_W)\n",
    "$$\n",
    "The product between: maximum light use efficiency, $\\epsilon^*$; the fraction of photosynthetically active radiation, $\\text{APAR}$, absorbed by leafs, $f\\text{APAR}$; and the instantaneous effect of light intensity $f_L$, cloudiness index $f_CI$, vapor pressure deficit $f_VPD$ and soil moisture $f_W$ [see Bao et al., 2023; 2024].\n",
    "\n",
    "And  supply $GPP$:\n",
    "\n",
    "$$\n",
    "GPP_S = PAW^{k_{Tr}} \\cdot WUE\n",
    "$$\n",
    "\n",
    "Where where the daily variations in water use efficiency, $WUE$, result from changes in $VPD$ and $\\quad [CO_2]_{atm}$. Upon $C$ assimilation by vegetation, and deduced $R_A$ costs, the available carbon is transported to the different vegetation pools depending on environmental conditions, as inspired by the growind season index (GSI) model [see Koirala et al., in print; Jolly et al., 2005]. \n",
    "\n",
    "Overall, WROASTED includes >40 parameters controlling the responses of carbon and water dynamics in terrestrial ecosystems constrainable by observations of ecosystem fluxes, eddy covariance, plant phenology from remote sensing EO data, and above ground biomass stocks, where available [see Koirala et al., in print].\n",
    "\n",
    "---\n",
    "## A simple LUE-model\n",
    "A simpler Light Use efficiency model is setup  to further test the hybrid modeling setup where solely:\n",
    "$$\n",
    "GPP = \\epsilon^* \\cdot f\\text{APAR} \\cdot \\text{PAR} \\cdot (f_L \\cdot f_{CI} \\cdot f_T \\cdot f_{VPD} \\cdot f_W)\n",
    "$$\n",
    "\n",
    "where there is not supply limitation of GPP,  $f_L=f_W=1$, $f_{VPD}$ follows PRELES [REF], $f_T$ follows CASA [Potter et al., 1993], $f_{CI}$ [Wang et al., 2015] . $f\\text{APAR}$ is a constant.\n",
    "\n",
    "---\n",
    "## The challenge\n",
    "To calibrate and generalize the model parameterization.\n",
    "\n",
    "---\n",
    "## Parameter inversion\n",
    "The goal is to find $\\theta$ such that the model predictions $f(X, \\theta)$ best match observed datasets $y$. Here, the terrestrial ecosystem model, WROASTED, represented by $f(X, \\theta)$, predicts a set of ecosystem carbon and water state and flux variables, $\\hat{y}$, observed at locations: \n",
    "- $X$: meteorological drivers (i.e., temperature, radiation, precipitation, $VPD$, etc);\n",
    "- $\\theta$: parameter vector to be estimated;\n",
    "- $y$: observations (e.g., $GPP$, $T_r$, evapotranspiration, $R_{ECO}$, aboveground biomass AGB, $f\\text{APAR}$)\n",
    "\n",
    "### Optimization problem\n",
    "Generically can be written:\n",
    "$$\n",
    "\\theta^*=\\arg\\min_{\\theta \\in \\Theta} \\; \\mathcal{L}(\\theta)\\quad\\text{via}\\quad\\mathcal{O}\n",
    "$$\n",
    "\n",
    "Where:\n",
    "- $\\mathcal{L}(\\theta)$: is the cost function quantifying the mismatch between model predictions and observations,\n",
    "- $\\Theta$: feasible parameter space (e.g., bounds or priors on $\\theta$),\n",
    "- $\\mathcal{O}$: optimization operator/algorithm (e.g., gradient descent, L-BFGS, CMA-ES)\n",
    "\n",
    "In the exercise here, for fluxes and phenology time series, the loss function $\\mathcal{L}(\\theta)$ is set to the normalized Nash-Sutcliffe Efficiency (NNSE)\n",
    "$$\n",
    "\\text{NNSE}(\\theta) = 1 - \\frac{1}{2-NSE}\n",
    "$$\n",
    "$$\n",
    "\\text{NSE}(\\theta) = 1 - \\frac{\\sum_{i=1}^{N} (y_i - f(X_i, \\theta))^2}{\\sum_{i=1}^{N} (y_i - \\bar{y})^2}\n",
    "$$\n",
    "\n",
    "While for stocks, AGB, an adjusted normalized mean average error is used\n",
    "$$\n",
    "NMAE = \\frac{\\sum_{i=1}^{N} |y_i - f(X_i, \\theta)|}{N \\cdot (1+ \\bar{y})}\n",
    "$$\n",
    "$$\n",
    "\\theta^* = \\arg\\min_{\\theta} \\; \\mathcal{L}(\\theta)\n",
    "$$\n",
    "\n",
    "---\n",
    "## Setting up SINDBAD-Tutorials\n",
    "Navigate to the [SINDBAD-Tutorials for AI4PEX repository](GitHubLink) and install. Please follow instructions. For us, [VS Code](https://code.visualstudio.com/) has been a very fluid host for [Julia](https://julialang.org/) developments.\n",
    "\n",
    "### Get the data for these SINDBAD tutorials\n",
    "The data can be found [here](https://nextcloud.bgc-jena.mpg.de/s/w2mbH59W4nF3Tcd). Suggestion, store it in a child folder of the SINDBAD-Tutorials (e.g. SINDBAD-Tutorials/data/).\n",
    "\n",
    "## Let's go...\n",
    "### Get packages and goodies to go."
   ]
  },
  {
   "cell_type": "code",
   "execution_count": null,
   "id": "d5a4dc34",
   "metadata": {},
   "outputs": [],
   "source": [
    "import Pkg\n",
    "Pkg.activate(\".\")\n",
    "Pkg.instantiate()"
   ]
  },
  {
   "cell_type": "code",
   "execution_count": null,
   "id": "b4fd8472",
   "metadata": {},
   "outputs": [],
   "source": [
    "# ================================== using tools ==================================================\n",
    "# some of the things that will be using... Julia tools, SINDBAD tools, local codes...\n",
    "using Revise\n",
    "using SindbadTutorials\n",
    "using SindbadTutorials.Dates\n",
    "using SindbadTutorials.Plots\n",
    "using SindbadTutorials.SindbadVisuals\n",
    "toggleStackTraceNT()\n",
    "include(\"tutorial_helpers.jl\")"
   ]
  },
  {
   "cell_type": "markdown",
   "id": "08416f8a",
   "metadata": {},
   "source": [
    "### Get the data and paths to data setup"
   ]
  },
  {
   "cell_type": "code",
   "execution_count": null,
   "id": "41cb9d05",
   "metadata": {},
   "outputs": [],
   "source": [
    "# ================================== get data / set paths ========================================= \n",
    "# data to be used can be found here: https://nextcloud.bgc-jena.mpg.de/s/w2mbH59W4nF3Tcd\n",
    "# organizing the paths of data sources and outputs for this experiment\n",
    "path_input_dir      = getSindbadDataDepot(; env_data_depot_var=\"SINDBAD_DATA_DEPOT\", \n",
    "                    local_data_depot=joinpath(\"/home/jovyan/data/ellis_jena_2025\")); # for convenience, the data file is set within the SINDBAD-Tutorials path; this needs to be changed otherwise.\n",
    "path_input          = joinpath(\"$(path_input_dir)\",\"FLUXNET_v2023_12_1D_REPLACED_Noise003_v1.zarr\"); # zarr data source containing all the data necessary for the exercise\n",
    "path_observation    = path_input; # observations (synthetic or otherwise) are included in the same file\n",
    "path_output         = \"\";\n"
   ]
  },
  {
   "cell_type": "markdown",
   "id": "c9087b51",
   "metadata": {},
   "source": [
    "### That Zarr file contains many eddy covariance sites - synthetic data. Let's select one to invert."
   ]
  },
  {
   "cell_type": "code",
   "execution_count": null,
   "id": "56abe566",
   "metadata": {},
   "outputs": [],
   "source": [
    "# ================================== selecting a site =============================================\n",
    "# there is a collection of several sites in the data files site info; #68 is DE-Hai\n",
    "site_index      = 68;\n",
    "domain, y_dist  = getSiteInfo(site_index);"
   ]
  },
  {
   "cell_type": "markdown",
   "id": "a38a62bb",
   "metadata": {},
   "source": [
    "### Now, setting up the experiment.\n",
    "Here, the full experiment is set up - via JSON files - by defining configuration files for forcing, model structure and the optimization approach; alongside definition of: simulation domain and temporal range; temporal resolution; selection of simulation data types, precision and parallelization, SINDBAD internals; and simulation spin-up and outputs contents and data structure. "
   ]
  },
  {
   "cell_type": "code",
   "execution_count": null,
   "id": "c81adf7b",
   "metadata": {},
   "outputs": [],
   "source": [
    "# ================================== setting up the experiment ====================================\n",
    "# experiment is all set up according to a (collection of) json file(s)\n",
    "experiment_json     = joinpath(@__DIR__,\"settings_WROASTED_HB\",\"experiment_insitu.json\");\n",
    "experiment_name     = \"WROASTED_inversion_CMAES\";\n",
    "begin_year          = 1979;\n",
    "end_year            = 2017;\n",
    "run_optimization    = true;\n",
    "isfile(experiment_json) ? nothing : println(\"Hmmm... does not exist : $(experiment_json)\");\n",
    "\n",
    "# setting up the model spinup sequence : can change according to the site...\n",
    "spinup_sequence = getSpinupSequenceSite(y_dist, begin_year);\n",
    "\n",
    "# default setting in experiment_json will be replaced by the \"replace_info\"\n",
    "replace_info = Dict(\"experiment.basics.time.date_begin\" => \"$(begin_year)-01-01\",\n",
    "    \"experiment.basics.domain\" => domain,\n",
    "    \"experiment.basics.name\" => experiment_name,\n",
    "    \"experiment.basics.time.date_end\" => \"$(end_year)-12-31\",\n",
    "    \"experiment.flags.run_optimization\" => run_optimization,\n",
    "    \"experiment.model_spinup.sequence\" => spinup_sequence,\n",
    "    \"forcing.default_forcing.data_path\" => path_input,\n",
    "    \"forcing.subset.site\" => [site_index],\n",
    "    \"experiment.model_output.path\" => path_output,\n",
    "    \"optimization.observations.default_observation.data_path\" => path_observation,\n",
    "    );\n",
    "\n"
   ]
  },
  {
   "cell_type": "markdown",
   "id": "22caa084",
   "metadata": {},
   "source": [
    "### A simple forward run"
   ]
  },
  {
   "cell_type": "code",
   "execution_count": null,
   "id": "a534f14a",
   "metadata": {},
   "outputs": [],
   "source": [
    "# ================================== forward run ================================================== \n",
    "# before running the optimization, check a forward run \n",
    "@time out_dflt  = runExperimentForward(experiment_json; replace_info=deepcopy(replace_info)); # full default model\n",
    "\n",
    "## check the docs for output at: http://sindbad-mdi.org/pages/develop/hybrid_modeling.html and http://sindbad-mdi.org/pages/develop/sindbad_outputs.html\n",
    "\n",
    "# access some of the internals to do some plots with the forward runs...\n",
    "info            = getExperimentInfo(experiment_json; replace_info=deepcopy(replace_info)); # note that this will modify information from json with the replace_info\n",
    "forcing         = getForcing(info); \n",
    "run_helpers     = prepTEM(forcing, info); # not needed now\n",
    "observations    = getObservation(info, forcing.helpers);\n",
    "obs_array       = [Array(_o) for _o in observations.data]; \n",
    "cost_options    = prepCostOptions(obs_array, info.optimization.cost_options);\n",
    "\n",
    "# plot the default simulations\n",
    "plotTimeSeriesWithObs(out_dflt,obs_array,cost_options);\n",
    "println(\"Outputs of plotting will be here: \" * info.output.dirs.figure);\n",
    "\n"
   ]
  },
  {
   "cell_type": "markdown",
   "id": "14bda510",
   "metadata": {},
   "source": [
    "### Inverting the parameters of WROASTED\n",
    "$\\mathcal{O}_{CMA-ES}$ is an expensive approach. For demonstration, maxfeval is set to 1500. Can be changed in the optimization algorithm set up file."
   ]
  },
  {
   "cell_type": "code",
   "execution_count": null,
   "id": "c3747988",
   "metadata": {},
   "outputs": [],
   "source": [
    "# ================================== optimization ================================================= \n",
    "# run the optimization according to the settings above... can take some time...\n",
    "@time out_opti  = runExperimentOpti(experiment_json; replace_info=deepcopy(replace_info), log_level=:info);\n",
    "\n",
    "# plot the results\n",
    "plotTimeSeriesWithObs(out_opti);\n",
    "plotTimeSeriesDebug(out_opti.info, out_opti.output.optimized, out_opti.output.default);\n",
    "println(\"Outputs of plotting will be here: \" * info.output.dirs.figure);\n",
    "\n"
   ]
  },
  {
   "cell_type": "markdown",
   "id": "ae262d7d",
   "metadata": {},
   "source": [
    "### Using a simple - and faster - LUE model\n",
    "Full workflow in one go now..."
   ]
  },
  {
   "cell_type": "code",
   "execution_count": null,
   "id": "d8da41c4",
   "metadata": {},
   "outputs": [],
   "source": [
    "# ================================== another model ================================================ \n",
    "# all of the above with another model...\n",
    "# only spin up the moisture pools\n",
    "spinup_sequence = getSpinupSequenceSite();\n",
    "\n",
    "# just change the model setup and experiment name\n",
    "experiment_json = joinpath(@__DIR__,\"settings_LUE\",\"experiment.json\");\n",
    "experiment_name = \"LUE_inversion_CMAES\";\n",
    "replace_info    = Dict(\"experiment.basics.time.date_begin\" => \"$(begin_year)-01-01\",\n",
    "    \"experiment.basics.domain\" => domain,\n",
    "    \"experiment.basics.name\" => experiment_name,\n",
    "    \"experiment.basics.time.date_end\" => \"$(end_year)-12-31\",\n",
    "    \"experiment.flags.run_optimization\" => run_optimization,\n",
    "    \"experiment.model_spinup.sequence\" => spinup_sequence,\n",
    "    \"forcing.default_forcing.data_path\" => path_input,\n",
    "    \"forcing.subset.site\" => [site_index],\n",
    "    \"experiment.model_output.path\" => path_output,\n",
    "    \"optimization.observations.default_observation.data_path\" => path_observation,\n",
    "    );\n",
    "\n",
    "# #=\n",
    "@time out_dflt_lue  = runExperimentForward(experiment_json; replace_info=deepcopy(replace_info)); # full default model\n",
    "# access some of the internals to do some plots with the forward runs...\n",
    "info            = getExperimentInfo(experiment_json; replace_info=deepcopy(replace_info)); # note that this will modify information from json with the replace_info\n",
    "forcing         = getForcing(info); \n",
    "run_helpers     = prepTEM(forcing, info); # not needed now\n",
    "observations    = getObservation(info, forcing.helpers);\n",
    "obs_array       = [Array(_o) for _o in observations.data]; \n",
    "cost_options    = prepCostOptions(obs_array, info.optimization.cost_options);\n",
    "# =#\n",
    "\n",
    "# plot the default simulations\n",
    "plotTimeSeriesWithObs(out_dflt_lue,obs_array,cost_options);\n",
    "println(\"Outputs of plotting will be here: \" * info.output.dirs.figure);\n",
    "\n",
    "# run the optimization\n",
    "@time out_lue_opti  = runExperimentOpti(experiment_json; replace_info=deepcopy(replace_info), log_level=:info);\n",
    "\n",
    "# plot the results\n",
    "plotTimeSeriesWithObs(out_lue_opti);\n",
    "println(\"Outputs of plotting will be here: \" * out_lue_opti.info.output.dirs.figure);\n",
    "\n"
   ]
  },
  {
   "cell_type": "code",
   "execution_count": null,
   "id": "deec1ef5",
   "metadata": {},
   "outputs": [],
   "source": [
    "# ================================== time for discussion ========================================== "
   ]
  },
  {
   "cell_type": "code",
   "execution_count": null,
   "id": "646c2b67",
   "metadata": {},
   "outputs": [],
   "source": []
  }
 ],
 "metadata": {
  "kernelspec": {
   "display_name": "Julia 1.11.5",
   "language": "julia",
   "name": "julia-1.11"
  },
  "language_info": {
   "file_extension": ".jl",
   "mimetype": "application/julia",
   "name": "julia",
   "version": "1.11.5"
  }
 },
 "nbformat": 4,
 "nbformat_minor": 5
}
